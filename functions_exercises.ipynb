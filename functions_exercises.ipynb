{
 "cells": [
  {
   "cell_type": "markdown",
   "id": "8beea654",
   "metadata": {},
   "source": [
    "Exercise 1: Define a function named is_two. It should accept one input and return True if the passed input is either the number or the string 2, False otherwise."
   ]
  },
  {
   "cell_type": "code",
   "execution_count": 5,
   "id": "ef098966",
   "metadata": {},
   "outputs": [],
   "source": [
    "def is_two(num):\n",
    "    if int(num) == 2:\n",
    "        return True\n",
    "    else:\n",
    "        return False"
   ]
  },
  {
   "cell_type": "markdown",
   "id": "512270fe",
   "metadata": {},
   "source": [
    "Exercise 2: Define a function named is_vowel. It should return True if the passed string is a vowel, False otherwise."
   ]
  },
  {
   "cell_type": "code",
   "execution_count": 11,
   "id": "bbc166a5",
   "metadata": {},
   "outputs": [],
   "source": [
    "def is_vowel(x):\n",
    "    if x.lower() in ['a','e','i','o','u']:\n",
    "        return True\n",
    "    else:\n",
    "        return False"
   ]
  },
  {
   "cell_type": "markdown",
   "id": "7c0bc7b5",
   "metadata": {},
   "source": [
    "Exercise 3: Define a function named is_consonant. It should return True if the passed string is a consonant, False otherwise. Use your is_vowel function to accomplish this."
   ]
  },
  {
   "cell_type": "code",
   "execution_count": 17,
   "id": "5c26a71a",
   "metadata": {},
   "outputs": [],
   "source": [
    "def is_consonant(x):\n",
    "    if x.lower() not in ['a','e','i','o','u'] and x.isdigit() == False:\n",
    "        return True\n",
    "    else:\n",
    "        return False\n"
   ]
  },
  {
   "cell_type": "markdown",
   "id": "97596df1",
   "metadata": {},
   "source": [
    "Exercise 4: Define a function that accepts a string that is a word. The function should capitalize the first letter of the word if the word starts with a consonant."
   ]
  },
  {
   "cell_type": "code",
   "execution_count": 22,
   "id": "02e8d00c",
   "metadata": {},
   "outputs": [],
   "source": [
    "def cap_con(word):\n",
    "    if word[0].lower() not in ['a','e','i','o','u']:\n",
    "        return word.capitalize()"
   ]
  },
  {
   "cell_type": "markdown",
   "id": "79ee2916",
   "metadata": {},
   "source": [
    "Exercise 5: Define a function named calculate_tip. It should accept a tip percentage (a number between 0 and 1) and the bill total, and return the amount to tip."
   ]
  },
  {
   "cell_type": "code",
   "execution_count": 37,
   "id": "e03efee9",
   "metadata": {},
   "outputs": [],
   "source": [
    "def calculate_tip(bill, pct = '20'):\n",
    "    return bill + (bill *(int(pct)/100))\n"
   ]
  },
  {
   "cell_type": "markdown",
   "id": "f7c3957d",
   "metadata": {},
   "source": [
    "Exercise 6: Define a function named apply_discount. It should accept a original price, and a discount percentage, and return the price after the discount is applied."
   ]
  },
  {
   "cell_type": "code",
   "execution_count": 45,
   "id": "cb8e0e16",
   "metadata": {},
   "outputs": [],
   "source": [
    "def apply_discount(price, discount = '15'):\n",
    "    return price - (price * (int(discount)/100))"
   ]
  },
  {
   "cell_type": "markdown",
   "id": "02482958",
   "metadata": {},
   "source": [
    "Exercise 7: Define a function named handle_commas. It should accept a string that is a number that contains commas in it as input, and return a number as output."
   ]
  },
  {
   "cell_type": "code",
   "execution_count": 53,
   "id": "f522c762",
   "metadata": {},
   "outputs": [],
   "source": [
    "def handle_commas(num):\n",
    "    return num.replace(',','')"
   ]
  },
  {
   "cell_type": "markdown",
   "id": "ff9a3702",
   "metadata": {},
   "source": [
    "Exerise 8: Define a function named get_letter_grade. It should accept a number and return the letter grade associated with that number (A-F)."
   ]
  },
  {
   "cell_type": "code",
   "execution_count": 58,
   "id": "ec76e9ca",
   "metadata": {},
   "outputs": [],
   "source": [
    "def letter_grade(grade):\n",
    "    if grade >= 90:\n",
    "        return \"A\"\n",
    "    elif grade in range(80,90):\n",
    "        return \"B\"\n",
    "    elif grade in range(70,80):\n",
    "        return \"C\"\n",
    "    elif grade in range(60,70):\n",
    "        return \"D\"\n",
    "    else:\n",
    "        return \"F\""
   ]
  },
  {
   "cell_type": "markdown",
   "id": "0b184b00",
   "metadata": {},
   "source": [
    "Exercise 9: Define a function named remove_vowels that accepts a string and returns a string with all the vowels removed."
   ]
  },
  {
   "cell_type": "raw",
   "id": "8809bd70",
   "metadata": {},
   "source": [
    "def remove_vowels(word):\n",
    "    for i in \"aeiouAEIOU\":\n",
    "        word = word.replace(i,\"\")\n",
    "    return word"
   ]
  },
  {
   "cell_type": "markdown",
   "id": "670cde63",
   "metadata": {},
   "source": [
    "Exercise 10: Define a function named normalize_name. It should accept a string and return a valid python identifier, that is:\n",
    "anything that is not a valid python identifier should be removed\n",
    "leading and trailing whitespace should be removed\n",
    "everything should be lowercase\n",
    "spaces should be replaced with underscores\n",
    "for example:\n",
    "Name will become name\n",
    "First Name will become first_name\n",
    "% Completed will become completed"
   ]
  },
  {
   "cell_type": "code",
   "execution_count": 71,
   "id": "606dfa7b",
   "metadata": {},
   "outputs": [
    {
     "data": {
      "text/plain": [
       "'!__john_smith&'"
      ]
     },
     "execution_count": 71,
     "metadata": {},
     "output_type": "execute_result"
    }
   ],
   "source": [
    "def normalize_name(name):\n",
    "    # make it lower case\n",
    "    lower_name = name.lower()\n",
    "    # replace space with underscore\n",
    "    long_name = lower_name.replace(' ','_')\n",
    "    # remove leading or trailing whitespaces\n",
    "    #final_name = long_name.remove('!','@','#','$','%','^','&','*','?')\n",
    "    return long_name\n",
    "normalize_name('!  John Smith&')"
   ]
  }
 ],
 "metadata": {
  "kernelspec": {
   "display_name": "Python 3 (ipykernel)",
   "language": "python",
   "name": "python3"
  },
  "language_info": {
   "codemirror_mode": {
    "name": "ipython",
    "version": 3
   },
   "file_extension": ".py",
   "mimetype": "text/x-python",
   "name": "python",
   "nbconvert_exporter": "python",
   "pygments_lexer": "ipython3",
   "version": "3.9.7"
  }
 },
 "nbformat": 4,
 "nbformat_minor": 5
}
