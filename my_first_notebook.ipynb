{
 "cells": [
  {
   "cell_type": "code",
   "execution_count": 3,
   "id": "d4aeccee",
   "metadata": {},
   "outputs": [
    {
     "name": "stdout",
     "output_type": "stream",
     "text": [
      "fun\n"
     ]
    }
   ],
   "source": [
    "def what_is_python(x):\n",
    "    x = \"fun\"\n",
    "    print(x)\n",
    "    \n",
    "what_is_python('words')   "
   ]
  },
  {
   "cell_type": "code",
   "execution_count": 7,
   "id": "a0202020",
   "metadata": {
    "scrolled": true
   },
   "outputs": [
    {
     "name": "stdout",
     "output_type": "stream",
     "text": [
      "initiated datasets repo at: /Users/malsmith/.pydataset/\n"
     ]
    }
   ],
   "source": [
    "import pydataset"
   ]
  },
  {
   "cell_type": "code",
   "execution_count": 11,
   "id": "796fef1b",
   "metadata": {},
   "outputs": [
    {
     "name": "stdout",
     "output_type": "stream",
     "text": [
      "try again\n",
      "try again\n",
      "that's correct\n"
     ]
    }
   ],
   "source": [
    "def are_loops_fun(x):\n",
    "    if x == 'no':\n",
    "        print(\"that's correct\")\n",
    "    else:\n",
    "        print(\"try again\")\n",
    "        \n",
    "are_loops_fun(\"yes\")\n",
    "are_loops_fun(\"maybe\")\n",
    "are_loops_fun('no')"
   ]
  }
 ],
 "metadata": {
  "kernelspec": {
   "display_name": "Python 3 (ipykernel)",
   "language": "python",
   "name": "python3"
  },
  "language_info": {
   "codemirror_mode": {
    "name": "ipython",
    "version": 3
   },
   "file_extension": ".py",
   "mimetype": "text/x-python",
   "name": "python",
   "nbconvert_exporter": "python",
   "pygments_lexer": "ipython3",
   "version": "3.9.7"
  }
 },
 "nbformat": 4,
 "nbformat_minor": 5
}
